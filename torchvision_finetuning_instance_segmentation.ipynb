{
  "nbformat": 4,
  "nbformat_minor": 0,
  "metadata": {
    "accelerator": "GPU",
    "colab": {
      "name": "Copy of Copy of torchvision_finetuning_instance_segmentation.ipynb",
      "provenance": [],
      "collapsed_sections": [],
      "include_colab_link": true
    },
    "kernelspec": {
      "display_name": "Python 3",
      "language": "python",
      "name": "python3"
    },
    "language_info": {
      "codemirror_mode": {
        "name": "ipython",
        "version": 3
      },
      "file_extension": ".py",
      "mimetype": "text/x-python",
      "name": "python",
      "nbconvert_exporter": "python",
      "pygments_lexer": "ipython3",
      "version": "3.6.4"
    }
  },
  "cells": [
    {
      "cell_type": "markdown",
      "metadata": {
        "id": "view-in-github",
        "colab_type": "text"
      },
      "source": [
        "<a href=\"https://colab.research.google.com/github/HyamsG/FlexibleRegularization/blob/master/torchvision_finetuning_instance_segmentation.ipynb\" target=\"_parent\"><img src=\"https://colab.research.google.com/assets/colab-badge.svg\" alt=\"Open In Colab\"/></a>"
      ]
    },
    {
      "cell_type": "markdown",
      "metadata": {
        "id": "DfPPQ6ztJhv4"
      },
      "source": [
        "# TorchVision 0.3 Object Detection finetuning tutorial\n",
        "\n",
        "For this tutorial, we will be finetuning a pre-trained [Mask R-CNN](https://arxiv.org/abs/1703.06870) model in the [*Penn-Fudan Database for Pedestrian Detection and Segmentation*](https://www.cis.upenn.edu/~jshi/ped_html/). It contains 170 images with 345 instances of pedestrians, and we will use it to illustrate how to use the new features in torchvision in order to train an instance segmentation model on a custom dataset.\n",
        "\n",
        "First, we need to install `pycocotools`. This library will be used for computing the evaluation metrics following the COCO metric for intersection over union."
      ]
    },
    {
      "cell_type": "code",
      "metadata": {
        "id": "DBIoe_tHTQgV",
        "colab": {
          "base_uri": "https://localhost:8080/"
        },
        "outputId": "96838ba8-61a7-4b14-f070-425a7acf992b"
      },
      "source": [
        "%%shell\n",
        "\n",
        "pip install cython\n",
        "# Install pycocotools, the version by default in Colab\n",
        "# has a bug fixed in https://github.com/cocodataset/cocoapi/pull/354\n",
        "pip install -U 'git+https://github.com/cocodataset/cocoapi.git#subdirectory=PythonAPI'"
      ],
      "execution_count": 16,
      "outputs": [
        {
          "output_type": "stream",
          "text": [
            "Requirement already satisfied: cython in /usr/local/lib/python3.6/dist-packages (0.29.21)\n",
            "Collecting git+https://github.com/cocodataset/cocoapi.git#subdirectory=PythonAPI\n",
            "  Cloning https://github.com/cocodataset/cocoapi.git to /tmp/pip-req-build-res66lbn\n",
            "  Running command git clone -q https://github.com/cocodataset/cocoapi.git /tmp/pip-req-build-res66lbn\n",
            "Requirement already satisfied, skipping upgrade: setuptools>=18.0 in /usr/local/lib/python3.6/dist-packages (from pycocotools==2.0) (51.3.3)\n",
            "Requirement already satisfied, skipping upgrade: cython>=0.27.3 in /usr/local/lib/python3.6/dist-packages (from pycocotools==2.0) (0.29.21)\n",
            "Requirement already satisfied, skipping upgrade: matplotlib>=2.1.0 in /usr/local/lib/python3.6/dist-packages (from pycocotools==2.0) (3.2.2)\n",
            "Requirement already satisfied, skipping upgrade: pyparsing!=2.0.4,!=2.1.2,!=2.1.6,>=2.0.1 in /usr/local/lib/python3.6/dist-packages (from matplotlib>=2.1.0->pycocotools==2.0) (2.4.7)\n",
            "Requirement already satisfied, skipping upgrade: kiwisolver>=1.0.1 in /usr/local/lib/python3.6/dist-packages (from matplotlib>=2.1.0->pycocotools==2.0) (1.3.1)\n",
            "Requirement already satisfied, skipping upgrade: numpy>=1.11 in /usr/local/lib/python3.6/dist-packages (from matplotlib>=2.1.0->pycocotools==2.0) (1.19.5)\n",
            "Requirement already satisfied, skipping upgrade: cycler>=0.10 in /usr/local/lib/python3.6/dist-packages (from matplotlib>=2.1.0->pycocotools==2.0) (0.10.0)\n",
            "Requirement already satisfied, skipping upgrade: python-dateutil>=2.1 in /usr/local/lib/python3.6/dist-packages (from matplotlib>=2.1.0->pycocotools==2.0) (2.8.1)\n",
            "Requirement already satisfied, skipping upgrade: six in /usr/local/lib/python3.6/dist-packages (from cycler>=0.10->matplotlib>=2.1.0->pycocotools==2.0) (1.15.0)\n",
            "Building wheels for collected packages: pycocotools\n",
            "  Building wheel for pycocotools (setup.py) ... \u001b[?25l\u001b[?25hdone\n",
            "  Created wheel for pycocotools: filename=pycocotools-2.0-cp36-cp36m-linux_x86_64.whl size=265561 sha256=02403bcfbd84e0501c3b8fae797d019102e72412323dc9c639d740d9785c4f16\n",
            "  Stored in directory: /tmp/pip-ephem-wheel-cache-lj4antbe/wheels/90/51/41/646daf401c3bc408ff10de34ec76587a9b3ebfac8d21ca5c3a\n",
            "Successfully built pycocotools\n",
            "Installing collected packages: pycocotools\n",
            "  Found existing installation: pycocotools 2.0\n",
            "    Uninstalling pycocotools-2.0:\n",
            "      Successfully uninstalled pycocotools-2.0\n",
            "Successfully installed pycocotools-2.0\n"
          ],
          "name": "stdout"
        },
        {
          "output_type": "execute_result",
          "data": {
            "text/plain": [
              ""
            ]
          },
          "metadata": {
            "tags": []
          },
          "execution_count": 16
        }
      ]
    },
    {
      "cell_type": "markdown",
      "metadata": {
        "id": "5Sd4jlGp2eLm"
      },
      "source": [
        "## Defining the Dataset\n",
        "\n",
        "The [torchvision reference scripts for training object detection, instance segmentation and person keypoint detection](https://github.com/pytorch/vision/tree/v0.3.0/references/detection) allows for easily supporting adding new custom datasets.\n",
        "The dataset should inherit from the standard `torch.utils.data.Dataset` class, and implement `__len__` and `__getitem__`.\n",
        "\n",
        "The only specificity that we require is that the dataset `__getitem__` should return:\n",
        "\n",
        "* image: a PIL Image of size (H, W)\n",
        "* target: a dict containing the following fields\n",
        "    * `boxes` (`FloatTensor[N, 4]`): the coordinates of the `N` bounding boxes in `[x0, y0, x1, y1]` format, ranging from `0` to `W` and `0` to `H`\n",
        "    * `labels` (`Int64Tensor[N]`): the label for each bounding box\n",
        "    * `image_id` (`Int64Tensor[1]`): an image identifier. It should be unique between all the images in the dataset, and is used during evaluation\n",
        "    * `area` (`Tensor[N]`): The area of the bounding box. This is used during evaluation with the COCO metric, to separate the metric scores between small, medium and large boxes.\n",
        "    * `iscrowd` (`UInt8Tensor[N]`): instances with `iscrowd=True` will be ignored during evaluation.\n",
        "    * (optionally) `masks` (`UInt8Tensor[N, H, W]`): The segmentation masks for each one of the objects\n",
        "    * (optionally) `keypoints` (`FloatTensor[N, K, 3]`): For each one of the `N` objects, it contains the `K` keypoints in `[x, y, visibility]` format, defining the object. `visibility=0` means that the keypoint is not visible. Note that for data augmentation, the notion of flipping a keypoint is dependent on the data representation, and you should probably adapt `references/detection/transforms.py` for your new keypoint representation\n",
        "\n",
        "If your model returns the above methods, they will make it work for both training and evaluation, and will use the evaluation scripts from pycocotools.\n",
        "\n",
        "Additionally, if you want to use aspect ratio grouping during training (so that each batch only contains images with similar aspect ratio), then it is recommended to also implement a `get_height_and_width` method, which returns the height and the width of the image. If this method is not provided, we query all elements of the dataset via `__getitem__` , which loads the image in memory and is slower than if a custom method is provided.\n"
      ]
    },
    {
      "cell_type": "markdown",
      "metadata": {
        "id": "bX0rqK-A3Nbl"
      },
      "source": [
        "### Writing a custom dataset for Penn-Fudan\n",
        "\n",
        "Let's write a dataset for the Penn-Fudan dataset.\n",
        "\n",
        "First, let's download and extract the data, present in a zip file at https://www.cis.upenn.edu/~jshi/ped_html/PennFudanPed.zip"
      ]
    },
    {
      "cell_type": "code",
      "metadata": {
        "id": "_t4TBwhHTdkd",
        "colab": {
          "base_uri": "https://localhost:8080/"
        },
        "outputId": "d130a1e6-aa42-4177-de50-1c019f0c73c1"
      },
      "source": [
        "%%shell\n",
        "\n",
        "# download the Penn-Fudan dataset\n",
        "wget https://www.cis.upenn.edu/~jshi/ped_html/PennFudanPed.zip .\n",
        "# extract it in the current folder\n",
        "unzip PennFudanPed.zip"
      ],
      "execution_count": null,
      "outputs": [
        {
          "output_type": "stream",
          "text": [
            "--2021-01-26 21:18:40--  https://www.cis.upenn.edu/~jshi/ped_html/PennFudanPed.zip\n",
            "Resolving www.cis.upenn.edu (www.cis.upenn.edu)... 158.130.69.163, 2607:f470:8:64:5ea5::d\n",
            "Connecting to www.cis.upenn.edu (www.cis.upenn.edu)|158.130.69.163|:443... connected.\n",
            "HTTP request sent, awaiting response... 200 OK\n",
            "Length: 53723336 (51M) [application/zip]\n",
            "Saving to: ‘PennFudanPed.zip.1’\n",
            "\n",
            "PennFudanPed.zip.1  100%[===================>]  51.23M   222MB/s    in 0.2s    \n",
            "\n",
            "2021-01-26 21:18:40 (222 MB/s) - ‘PennFudanPed.zip.1’ saved [53723336/53723336]\n",
            "\n",
            "--2021-01-26 21:18:40--  http://./\n",
            "Resolving . (.)... failed: No address associated with hostname.\n",
            "wget: unable to resolve host address ‘.’\n",
            "FINISHED --2021-01-26 21:18:40--\n",
            "Total wall clock time: 0.3s\n",
            "Downloaded: 1 files, 51M in 0.2s (222 MB/s)\n",
            "Archive:  PennFudanPed.zip\n",
            "replace PennFudanPed/added-object-list.txt? [y]es, [n]o, [A]ll, [N]one, [r]ename: "
          ],
          "name": "stdout"
        }
      ]
    },
    {
      "cell_type": "markdown",
      "metadata": {
        "id": "WfwuU-jI3j93"
      },
      "source": [
        "Let's have a look at the dataset and how it is layed down.\n",
        "\n",
        "The data is structured as follows\n",
        "```\n",
        "PennFudanPed/\n",
        "  PedMasks/\n",
        "    FudanPed00001_mask.png\n",
        "    FudanPed00002_mask.png\n",
        "    FudanPed00003_mask.png\n",
        "    FudanPed00004_mask.png\n",
        "    ...\n",
        "  PNGImages/\n",
        "    FudanPed00001.png\n",
        "    FudanPed00002.png\n",
        "    FudanPed00003.png\n",
        "    FudanPed00004.png\n",
        "```\n",
        "\n",
        "Here is one example of an image in the dataset, with its corresponding instance segmentation mask"
      ]
    },
    {
      "cell_type": "code",
      "metadata": {
        "id": "LDjuVFgexFfh"
      },
      "source": [
        "from PIL import Image\n",
        "Image.open('PennFudanPed/PNGImages/FudanPed00001.png')"
      ],
      "execution_count": null,
      "outputs": []
    },
    {
      "cell_type": "code",
      "metadata": {
        "id": "cFHKCvCTxiff"
      },
      "source": [
        "mask = Image.open('PennFudanPed/PedMasks/FudanPed00001_mask.png')\n",
        "# each mask instance has a different color, from zero to N, where\n",
        "# N is the number of instances. In order to make visualization easier,\n",
        "# let's adda color palette to the mask.\n",
        "mask.putpalette([\n",
        "    0, 0, 0, # black background\n",
        "    255, 0, 0, # index 1 is red\n",
        "    255, 255, 0, # index 2 is yellow\n",
        "    255, 153, 0, # index 3 is orange\n",
        "])\n",
        "mask"
      ],
      "execution_count": null,
      "outputs": []
    },
    {
      "cell_type": "markdown",
      "metadata": {
        "id": "C9Ee5NV54Dmj"
      },
      "source": [
        "So each image has a corresponding segmentation mask, where each color correspond to a different instance. Let's write a `torch.utils.data.Dataset` class for this dataset."
      ]
    },
    {
      "cell_type": "code",
      "metadata": {
        "id": "mTgWtixZTs3X"
      },
      "source": [
        "import os\n",
        "import numpy as np\n",
        "import torch\n",
        "import torch.utils.data\n",
        "from PIL import Image\n",
        "\n",
        "\n",
        "class PennFudanDataset(torch.utils.data.Dataset):\n",
        "    def __init__(self, root, transforms=None):\n",
        "        self.root = root\n",
        "        self.transforms = transforms\n",
        "        # load all image files, sorting them to\n",
        "        # ensure that they are aligned\n",
        "        self.imgs = list(sorted(os.listdir(os.path.join(root, \"PNGImages\"))))\n",
        "        self.masks = list(sorted(os.listdir(os.path.join(root, \"PedMasks\"))))\n",
        "\n",
        "    def __getitem__(self, idx):\n",
        "        # load images ad masks\n",
        "        img_path = os.path.join(self.root, \"PNGImages\", self.imgs[idx])\n",
        "        mask_path = os.path.join(self.root, \"PedMasks\", self.masks[idx])\n",
        "        img = Image.open(img_path).convert(\"RGB\")\n",
        "        # note that we haven't converted the mask to RGB,\n",
        "        # because each color corresponds to a different instance\n",
        "        # with 0 being background\n",
        "        mask = Image.open(mask_path)\n",
        "\n",
        "        mask = np.array(mask)\n",
        "        # instances are encoded as different colors\n",
        "        obj_ids = np.unique(mask)\n",
        "        # first id is the background, so remove it\n",
        "        obj_ids = obj_ids[1:]\n",
        "\n",
        "        # split the color-encoded mask into a set\n",
        "        # of binary masks\n",
        "        masks = mask == obj_ids[:, None, None]\n",
        "\n",
        "        # get bounding box coordinates for each mask\n",
        "        num_objs = len(obj_ids)\n",
        "        boxes = []\n",
        "        for i in range(num_objs):\n",
        "            pos = np.where(masks[i])\n",
        "            xmin = np.min(pos[1])\n",
        "            xmax = np.max(pos[1])\n",
        "            ymin = np.min(pos[0])\n",
        "            ymax = np.max(pos[0])\n",
        "            boxes.append([xmin, ymin, xmax, ymax])\n",
        "\n",
        "        boxes = torch.as_tensor(boxes, dtype=torch.float32)\n",
        "        # there is only one class\n",
        "        labels = torch.ones((num_objs,), dtype=torch.int64)\n",
        "        masks = torch.as_tensor(masks, dtype=torch.uint8)\n",
        "\n",
        "        image_id = torch.tensor([idx])\n",
        "        area = (boxes[:, 3] - boxes[:, 1]) * (boxes[:, 2] - boxes[:, 0])\n",
        "        # suppose all instances are not crowd\n",
        "        iscrowd = torch.zeros((num_objs,), dtype=torch.int64)\n",
        "\n",
        "        target = {}\n",
        "        target[\"boxes\"] = boxes\n",
        "        target[\"labels\"] = labels\n",
        "        target[\"masks\"] = masks\n",
        "        target[\"image_id\"] = image_id\n",
        "        target[\"area\"] = area\n",
        "        target[\"iscrowd\"] = iscrowd\n",
        "\n",
        "        if self.transforms is not None:\n",
        "            img, target = self.transforms(img, target)\n",
        "\n",
        "        return img, target\n",
        "\n",
        "    def __len__(self):\n",
        "        return len(self.imgs)"
      ],
      "execution_count": null,
      "outputs": []
    },
    {
      "cell_type": "markdown",
      "metadata": {
        "id": "J6f3ZOTJ4Km9"
      },
      "source": [
        "That's all for the dataset. Let's see how the outputs are structured for this dataset"
      ]
    },
    {
      "cell_type": "code",
      "metadata": {
        "id": "ZEARO4B_ye0s"
      },
      "source": [
        "dataset = PennFudanDataset('PennFudanPed/')\n",
        "dataset[0]"
      ],
      "execution_count": null,
      "outputs": []
    },
    {
      "cell_type": "markdown",
      "metadata": {
        "id": "lWOhcsir9Ahx"
      },
      "source": [
        "So we can see that by default, the dataset returns a `PIL.Image` and a dictionary\n",
        "containing several fields, including `boxes`, `labels` and `masks`."
      ]
    },
    {
      "cell_type": "markdown",
      "metadata": {
        "id": "RoAEkUgn4uEq"
      },
      "source": [
        "## Defining your model\n",
        "\n",
        "In this tutorial, we will be using [Mask R-CNN](https://arxiv.org/abs/1703.06870), which is based on top of [Faster R-CNN](https://arxiv.org/abs/1506.01497). Faster R-CNN is a model that predicts both bounding boxes and class scores for potential objects in the image.\n",
        "\n",
        "![Faster R-CNN](https://raw.githubusercontent.com/pytorch/vision/temp-tutorial/tutorials/tv_image03.png)\n",
        "\n",
        "Mask R-CNN adds an extra branch into Faster R-CNN, which also predicts segmentation masks for each instance.\n",
        "\n",
        "![Mask R-CNN](https://raw.githubusercontent.com/pytorch/vision/temp-tutorial/tutorials/tv_image04.png)\n",
        "\n",
        "There are two common situations where one might want to modify one of the available models in torchvision modelzoo.\n",
        "The first is when we want to start from a pre-trained model, and just finetune the last layer. The other is when we want to replace the backbone of the model with a different one (for faster predictions, for example).\n",
        "\n",
        "Let's go see how we would do one or another in the following sections.\n",
        "\n",
        "\n",
        "### 1 - Finetuning from a pretrained model\n",
        "\n",
        "Let's suppose that you want to start from a model pre-trained on COCO and want to finetune it for your particular classes. Here is a possible way of doing it:\n",
        "```\n",
        "import torchvision\n",
        "from torchvision.models.detection.faster_rcnn import FastRCNNPredictor\n",
        "\n",
        "# load a model pre-trained pre-trained on COCO\n",
        "model = torchvision.models.detection.fasterrcnn_resnet50_fpn(pretrained=True)\n",
        "\n",
        "# replace the classifier with a new one, that has\n",
        "# num_classes which is user-defined\n",
        "num_classes = 2  # 1 class (person) + background\n",
        "# get number of input features for the classifier\n",
        "in_features = model.roi_heads.box_predictor.cls_score.in_features\n",
        "# replace the pre-trained head with a new one\n",
        "model.roi_heads.box_predictor = FastRCNNPredictor(in_features, num_classes) \n",
        "```\n",
        "\n",
        "### 2 - Modifying the model to add a different backbone\n",
        "\n",
        "Another common situation arises when the user wants to replace the backbone of a detection\n",
        "model with a different one. For example, the current default backbone (ResNet-50) might be too big for some applications, and smaller models might be necessary.\n",
        "\n",
        "Here is how we would go into leveraging the functions provided by torchvision to modify a backbone.\n",
        "\n",
        "```\n",
        "import torchvision\n",
        "from torchvision.models.detection import FasterRCNN\n",
        "from torchvision.models.detection.rpn import AnchorGenerator\n",
        "\n",
        "# load a pre-trained model for classification and return\n",
        "# only the features\n",
        "backbone = torchvision.models.mobilenet_v2(pretrained=True).features\n",
        "# FasterRCNN needs to know the number of\n",
        "# output channels in a backbone. For mobilenet_v2, it's 1280\n",
        "# so we need to add it here\n",
        "backbone.out_channels = 1280\n",
        "\n",
        "# let's make the RPN generate 5 x 3 anchors per spatial\n",
        "# location, with 5 different sizes and 3 different aspect\n",
        "# ratios. We have a Tuple[Tuple[int]] because each feature\n",
        "# map could potentially have different sizes and\n",
        "# aspect ratios \n",
        "anchor_generator = AnchorGenerator(sizes=((32, 64, 128, 256, 512),),\n",
        "                                   aspect_ratios=((0.5, 1.0, 2.0),))\n",
        "\n",
        "# let's define what are the feature maps that we will\n",
        "# use to perform the region of interest cropping, as well as\n",
        "# the size of the crop after rescaling.\n",
        "# if your backbone returns a Tensor, featmap_names is expected to\n",
        "# be [0]. More generally, the backbone should return an\n",
        "# OrderedDict[Tensor], and in featmap_names you can choose which\n",
        "# feature maps to use.\n",
        "roi_pooler = torchvision.ops.MultiScaleRoIAlign(featmap_names=[0],\n",
        "                                                output_size=7,\n",
        "                                                sampling_ratio=2)\n",
        "\n",
        "# put the pieces together inside a FasterRCNN model\n",
        "model = FasterRCNN(backbone,\n",
        "                   num_classes=2,\n",
        "                   rpn_anchor_generator=anchor_generator,\n",
        "                   box_roi_pool=roi_pooler)\n",
        "```\n",
        "\n",
        "### An Instance segmentation model for PennFudan Dataset\n",
        "\n",
        "In our case, we want to fine-tune from a pre-trained model, given that our dataset is very small. So we will be following approach number 1.\n",
        "\n",
        "Here we want to also compute the instance segmentation masks, so we will be using Mask R-CNN:"
      ]
    },
    {
      "cell_type": "code",
      "metadata": {
        "id": "YjNHjVMOyYlH"
      },
      "source": [
        "import torchvision\n",
        "from torchvision.models.detection.faster_rcnn import FastRCNNPredictor\n",
        "from torchvision.models.detection.mask_rcnn import MaskRCNNPredictor\n",
        "\n",
        "      \n",
        "def get_instance_segmentation_model(num_classes):\n",
        "    # load an instance segmentation model pre-trained on COCO\n",
        "    model = torchvision.models.detection.maskrcnn_resnet50_fpn(pretrained=True)\n",
        "\n",
        "    # get the number of input features for the classifier\n",
        "    in_features = model.roi_heads.box_predictor.cls_score.in_features\n",
        "    # replace the pre-trained head with a new one\n",
        "    model.roi_heads.box_predictor = FastRCNNPredictor(in_features, num_classes)\n",
        "\n",
        "    # now get the number of input features for the mask classifier\n",
        "    in_features_mask = model.roi_heads.mask_predictor.conv5_mask.in_channels\n",
        "    hidden_layer = 256\n",
        "    # and replace the mask predictor with a new one\n",
        "    model.roi_heads.mask_predictor = MaskRCNNPredictor(in_features_mask,\n",
        "                                                       hidden_layer,\n",
        "                                                       num_classes)\n",
        "\n",
        "    return model"
      ],
      "execution_count": null,
      "outputs": []
    },
    {
      "cell_type": "code",
      "metadata": {
        "id": "c_1W1f9rnsJJ"
      },
      "source": [
        "import numpy as np\n",
        "import attr\n",
        "import torch\n",
        "\n",
        "@attr.s\n",
        "class OnlineAvg:\n",
        "    \"\"\"\n",
        "    online variance calculation\n",
        "    For a new value newValue, compute the new count, new avg, the new M2.\n",
        "    avg accumulates the avg of the entire dataset\n",
        "    M2 aggregates the squared distance from the avg\n",
        "    count aggregates the number of samples seen so far\n",
        "    \"\"\"\n",
        "    dim = attr.ib()\n",
        "    static_calculation = attr.ib(True)\n",
        "    package = attr.ib('torch')\n",
        "    reinitiate_every_step = attr.ib(True)\n",
        "    initial_param = attr.ib(None)\n",
        "\n",
        "    def __attrs_post_init__(self):\n",
        "        self.tensor_package = torch if self.package == 'torch' else np\n",
        "        self.initial_param = self.tensor_package.clone(self.initial_param)\n",
        "        self.count = 0\n",
        "        self.avg = self.initial_param #or self.tensor_package.zeros(self.dim)\n",
        "        self.static_avg = self.tensor_package.zeros(self.dim)\n",
        "\n",
        "    def update(self, new_value):\n",
        "        self.count += 1\n",
        "        delta = new_value - self.avg\n",
        "        self.avg += delta / self.count\n",
        "\n",
        "    def update_static_mean(self):\n",
        "        self.static_avg = self._get_avg()\n",
        "        if self.reinitiate_every_step:\n",
        "            self.count = 0\n",
        "            self.avg = self.tensor_package.zeros(self.dim)\n",
        "            self.static_avg = self.tensor_package.zeros(self.dim)\n",
        "\n",
        "    def _get_avg(self):\n",
        "        return self.avg\n",
        "\n",
        "    def get_static_mean(self):\n",
        "        if self.static_calculation:\n",
        "            return self.static_avg\n",
        "        return self._get_avg()\n",
        "\n",
        "#\n",
        "import numpy as np\n",
        "import attr\n",
        "import torch\n",
        "\n",
        "@attr.s\n",
        "class Welford:\n",
        "    \"\"\"\n",
        "    online variance calculation\n",
        "    For a new value newValue, compute the new count, new avg, the new M2.\n",
        "    avg accumulates the avg of the entire dataset\n",
        "    M2 aggregates the squared distance from the avg\n",
        "    count aggregates the number of samples seen so far\n",
        "    \"\"\"\n",
        "    dim = attr.ib()\n",
        "    static_calculation = attr.ib(True)\n",
        "    divide_var_by_mean_var = attr.ib(True)\n",
        "    var_normalizer = attr.ib(1)\n",
        "    # device = attr.ib('cpu')\n",
        "    package = attr.ib('torch')\n",
        "    reinitiate_every_step = attr.ib(True)\n",
        "    initial_param = attr.ib(None)\n",
        "\n",
        "    def __attrs_post_init__(self):\n",
        "        self.tensor_package = torch if self.package == 'torch' else np\n",
        "        self.initial_param = self.tensor_package.clone(self.initial_param)\n",
        "        self.count = 0\n",
        "        self.mean = self.initial_param #if  or self.tensor_package.zeros(self.dim)\n",
        "        self.M2 = self.tensor_package.zeros(self.dim)\n",
        "        self.var = self.tensor_package.ones(self.dim)\n",
        "\n",
        "        \n",
        "    def update(self, new_value):\n",
        "        self.count += 1\n",
        "        delta = new_value - self.mean\n",
        "        self.mean += delta / self.count  # todo: is this coordinate-wise? Yes, count is integer?\n",
        "        delta2 = new_value - self.mean\n",
        "        self.M2 += delta * delta  # todo: is this coordinate-wise? Yes it is.\n",
        "\n",
        "    def update_var(self):\n",
        "        self.var = self._get_var()\n",
        "        if self.reinitiate_every_step:\n",
        "            self.count = 0\n",
        "            self.mean = self.tensor_package.zeros(self.dim)\n",
        "            self.M2 = self.tensor_package.zeros(self.dim)\n",
        "            self.var = self.tensor_package.ones(self.dim)\n",
        "\n",
        "    def get_mean(self):\n",
        "        return self.mean\n",
        "    \n",
        "    def get_mle_var(self):\n",
        "        var = self.M2 / self.count - 1\n",
        "        if self.divide_var_by_mean_var:\n",
        "            var = var / self.tensor_package.mean(var)  # todo: is this coordinate-wise??\n",
        "        var = var * self.var_normalizer\n",
        "        return var\n",
        "\n",
        "\n",
        "    def get_var(self):\n",
        "        if self.static_calculation:\n",
        "            return self.var\n",
        "        return self._get_var()\n",
        "    \n",
        "    def _get_var(self):\n",
        "        var = self.M2 / max((self.count - 1), 1)\n",
        "        if self.divide_var_by_mean_var:\n",
        "            var = var/self.tensor_package.mean(var)\n",
        "        var = var * self.var_normalizer\n",
        "        return var\n",
        "\n",
        "#\n",
        "\n",
        "import torch\n",
        "from torch.optim.optimizer import Optimizer, required\n",
        "\n",
        "if torch.cuda.is_available():\n",
        "    device = torch.device('cuda')\n",
        "else:\n",
        "    device = torch.device('cpu')\n",
        "\n",
        "\n",
        "class SGD(Optimizer):\n",
        "    r\"\"\"Implements stochastic gradient descent (optionally with momentum).\n",
        "\n",
        "    Nesterov momentum is based on the formula from\n",
        "    `On the importance of initialization and momentum in deep learning`__.\n",
        "\n",
        "    Args:\n",
        "        params (iterable): iterable of parameters to optimize or dicts defining\n",
        "            parameter groups\n",
        "        lr (float): learning rate\n",
        "        momentum (float, optional): momentum factor (default: 0)\n",
        "        weight_decay (float, optional): weight decay (L2 penalty) (default: 0)\n",
        "        dampening (float, optional): dampening for momentum (default: 0)\n",
        "        nesterov (bool, optional): enables Nesterov momentum (default: False)\n",
        "\n",
        "    Example:\n",
        "        >>> optimizer = torch.optim.SGD(model.parameters(), lr=0.1, momentum=0.9)\n",
        "        >>> optimizer.zero_grad()\n",
        "        >>> loss_fn(model(input), target).backward()\n",
        "        >>> optimizer.step()\n",
        "\n",
        "    __ http://www.cs.toronto.edu/%7Ehinton/absps/momentum.pdf\n",
        "\n",
        "    .. note::\n",
        "        The implementation of SGD with Momentum/Nesterov subtly differs from\n",
        "        Sutskever et. al. and implementations in some other frameworks.\n",
        "\n",
        "        Considering the specific case of Momentum, the update can be written as\n",
        "\n",
        "        .. math::\n",
        "            \\begin{aligned}\n",
        "                v_{t+1} & = \\mu * v_{t} + g_{t+1}, \\\\\n",
        "                p_{t+1} & = p_{t} - \\text{lr} * v_{t+1},\n",
        "            \\end{aligned}\n",
        "\n",
        "        where :math:`p`, :math:`g`, :math:`v` and :math:`\\mu` denote the\n",
        "        parameters, gradient, velocity, and momentum respectively.\n",
        "\n",
        "        This is in contrast to Sutskever et. al. and\n",
        "        other frameworks which employ an update of the form\n",
        "\n",
        "        .. math::\n",
        "            \\begin{aligned}\n",
        "                v_{t+1} & = \\mu * v_{t} + \\text{lr} * g_{t+1}, \\\\\n",
        "                p_{t+1} & = p_{t} - v_{t+1}.\n",
        "            \\end{aligned}\n",
        "\n",
        "        The Nesterov version is analogously modified.\n",
        "    \"\"\"\n",
        "\n",
        "    def __init__(self, params, lr=required, momentum=0, dampening=0,\n",
        "                 weight_decay=0, nesterov=False, adaptive_var_weight_decay=False, iter_length=100, device=device,\n",
        "                 inverse_var=False, adaptive_avg_reg=False, logger=None, static_var_calculation=True,\n",
        "                 uniform_prior_strength=0.5):\n",
        "        if lr is not required and lr < 0.0:\n",
        "            raise ValueError(\"Invalid learning rate: {}\".format(lr))\n",
        "        if momentum < 0.0:\n",
        "            raise ValueError(\"Invalid momentum value: {}\".format(momentum))\n",
        "        if weight_decay < 0.0:\n",
        "            raise ValueError(\"Invalid weight_decay value: {}\".format(weight_decay))\n",
        "        defaults = dict(lr=lr, momentum=momentum, dampening=dampening,\n",
        "                        weight_decay=weight_decay, nesterov=nesterov)\n",
        "        if nesterov and (momentum <= 0 or dampening != 0):\n",
        "            raise ValueError(\"Nesterov momentum requires a momentum and zero dampening\")\n",
        "        super(SGD, self).__init__(params, defaults)\n",
        "        self.online_param_var_dict, self.avg_param_dict = \\\n",
        "            self.create_online_param_var_dict(\n",
        "                adaptive_var_weight_decay=adaptive_var_weight_decay, adaptive_avg_reg=adaptive_avg_reg,\n",
        "                static_var_calculation=static_var_calculation)\n",
        "\n",
        "        self.num_of_steps = 0\n",
        "        if adaptive_var_weight_decay or adaptive_avg_reg:\n",
        "            self.iter_length = iter_length\n",
        "            self.device = device\n",
        "            self.inverse_var = inverse_var\n",
        "            self.uniform_prior_strength = uniform_prior_strength\n",
        "            self.logger = logger\n",
        "        else:\n",
        "            self.iter_length = None\n",
        "            self.device = None\n",
        "            self.inverse_var = None\n",
        "            self.uniform_prior_strength = None\n",
        "            self.logger = None\n",
        "        # if adaptive_avg_reg:\n",
        "        #     self.avg_dict =\n",
        "        # else:\n",
        "        #     self.avg_dict = False\n",
        "\n",
        "    def __setstate__(self, state):\n",
        "        super(SGD, self).__setstate__(state)\n",
        "        for group in self.param_groups:\n",
        "            group.setdefault('nesterov', False)\n",
        "\n",
        "    def create_online_param_var_dict(self, adaptive_var_weight_decay, adaptive_avg_reg, static_var_calculation):\n",
        "        # todo: implement in Pytorch instead numpy\n",
        "        online_param_var = {} if adaptive_var_weight_decay else None\n",
        "        avg_param_dict = {} if adaptive_avg_reg else None\n",
        "        for group_index, param_group in enumerate(self.param_groups):\n",
        "            for param_index, param in enumerate(param_group['params']):\n",
        "                param_name = param.name\n",
        "                if not param_name:\n",
        "                    param_name = (group_index, param_index)\n",
        "                # self.params[param_name] = param#.astype(dtype)\n",
        "                # if self.adaptive_var_reg and 'W' in k:  # or (self.adaptive_dropconnect and k in ('W1', 'W2')):\n",
        "                    # if self.variance_calculation_method == 'welford':\n",
        "                if adaptive_var_weight_decay:\n",
        "                    online_param_var[param_name] = Welford(dim=param.shape, static_calculation=static_var_calculation, package='torch', initial_param=param)\n",
        "                if adaptive_avg_reg:\n",
        "                    avg_param_dict[param_name] = OnlineAvg(dim=param.shape, static_calculation=static_var_calculation, package='torch', initial_param=param)\n",
        "        return online_param_var, avg_param_dict\n",
        "\n",
        "    @torch.no_grad()\n",
        "    def step(self, closure=None):\n",
        "        \"\"\"Performs a single optimization step.\n",
        "        Arguments:\n",
        "            closure (callable, optional): A closure that reevaluates the model\n",
        "                and returns the loss.\n",
        "        \"\"\"\n",
        "        loss = None\n",
        "        if closure is not None:\n",
        "            with torch.enable_grad():\n",
        "                loss = closure()\n",
        "\n",
        "        for group_index, group in enumerate(self.param_groups):\n",
        "            weight_decay = group['weight_decay']\n",
        "            momentum = group['momentum']\n",
        "            dampening = group['dampening']\n",
        "            nesterov = group['nesterov']\n",
        "\n",
        "            for parameter_index, p in enumerate(group['params']):\n",
        "                if p.grad is None:\n",
        "                    continue\n",
        "                d_p = p.grad\n",
        "\n",
        "                if self.num_of_steps > 0 and self.num_of_steps % 100 == 0:  # self.iter_length == 0:\n",
        "                    parameter_name = (group_index, parameter_index)\n",
        "                    param_l2 = torch.norm(p)\n",
        "                    if self.logger:\n",
        "                        self.logger.report_scalar(\n",
        "                            title=f\"parameter l2, {weight_decay}\", series=str(parameter_name),\n",
        "                            value=float(param_l2), iteration=self.num_of_steps)\n",
        "\n",
        "                if weight_decay != 0:\n",
        "                    if self.online_param_var_dict:\n",
        "                        parameter_name = (group_index, parameter_index)\n",
        "                        var_tensor = self.online_param_var_dict[parameter_name].get_var().to(device=self.device)\n",
        "                        if not self.inverse_var:\n",
        "                            var_tensor = torch.inverse(var_tensor)\n",
        "                        # reg_p = d_p.add(self.avg_param_dict[parameter_name].get_static_mean.to(device=self.device), alpha=-1)\n",
        "                        # reg_p = reg_p.mul(reg_p)\n",
        "                        reg_p = p.mul(var_tensor)  # todo: does it yields per-coordinate multiplication?  YES IT IS!\n",
        "                        d_p = d_p.add(reg_p, alpha=weight_decay*(1-self.uniform_prior_strength))\n",
        "                        d_p = d_p.add(p, alpha=weight_decay * self.uniform_prior_strength)\n",
        "                    else:\n",
        "                        d_p = d_p.add(p, alpha=weight_decay)\n",
        "                if momentum != 0:\n",
        "                    param_state = self.state[p]\n",
        "                    if 'momentum_buffer' not in param_state:\n",
        "                        buf = param_state['momentum_buffer'] = torch.clone(d_p).detach()\n",
        "                    else:\n",
        "                        buf = param_state['momentum_buffer']\n",
        "                        buf.mul_(momentum).add_(d_p, alpha=1 - dampening)\n",
        "                    if nesterov:\n",
        "                        d_p = d_p.add(buf, alpha=momentum)\n",
        "                    else:\n",
        "                        d_p = buf\n",
        "\n",
        "                p.add_(d_p, alpha=-group['lr'])\n",
        "                if self.online_param_var_dict and weight_decay != 0:\n",
        "                    self.online_param_var_dict[parameter_name].update(p.to(device=self.device))\n",
        "                    if self.num_of_steps > 0 and self.num_of_steps % self.iter_length == 0:\n",
        "                    # if self.num_of_steps > self.iter_length and self.num_of_steps % self.iter_length == 0: #don't update first iter\n",
        "                        self.online_param_var_dict[parameter_name].update_var()\n",
        "                        print(\"updating var\")\n",
        "                        # report var\n",
        "                        if self.logger:\n",
        "                        # logger = trains.Task.current_task().get_logger()\n",
        "                            var_calculator = self.online_param_var_dict[parameter_name]\n",
        "                            d_var = var_calculator.M2 / (var_calculator.count - 1)  #  is this element-wise?\n",
        "                            self.logger.report_scalar(\n",
        "                                title=f\"parameter variance, {weight_decay}\", series=str(parameter_name),\n",
        "                                value=float(d_var.mean()), iteration=self.num_of_steps)\n",
        "\n",
        "        self.num_of_steps += 1\n",
        "        return loss\n",
        "\n",
        "    def update_param_variance_online(self, iteration):\n",
        "        if not self.model.static_variance_update:\n",
        "            return\n",
        "        # logger = trains.Task.current_task().get_logger()\n",
        "        for param_name in self.online_param_var:\n",
        "            self.online_param_var_dict[param_name].update_var()\n",
        "            # var_calculator = self.model.online_param_var[param_name]\n",
        "            # d_var = var_calculator.dynamic_var if \\\n",
        "            # self.model.variance_calculation_method == 'GMA' \\\n",
        "            # else var_calculator.M2 / (var_calculator.count - 1)\n",
        "            # logger.report_scalar(\n",
        "            #     title=f\"parameter variance, {self.model.reg}\", series=param_name, value=np.average(d_var), iteration=iteration)\n",
        "            # if self.model.adaptive_dropconnect:\n",
        "            #     var = self.model.online_param_var[param_name].get_var()\n",
        "            #     droconnect_value = 1/2 + np.sqrt(1-4*var) / 2\n",
        "            #     dropconnect_value = np.nan_to_num(droconnect_value, nan=0.5)\n",
        "            #     if self.model.divide_var_by_mean_var:\n",
        "            #         dropconnect_value = dropconnect_value / np.mean(dropconnect_value)\n",
        "            #     dropconnect_value = dropconnect_value * self.model.dropconnect\n",
        "            #     self.model.dropconnect_param['adaptive_p'][param_name] = dropconnect_value\n",
        "\n"
      ],
      "execution_count": null,
      "outputs": []
    },
    {
      "cell_type": "markdown",
      "metadata": {
        "id": "-WXLwePV5ieP"
      },
      "source": [
        "That's it, this will make model be ready to be trained and evaluated on our custom dataset.\n",
        "\n",
        "## Training and evaluation functions\n",
        "\n",
        "In `references/detection/,` we have a number of helper functions to simplify training and evaluating detection models.\n",
        "Here, we will use `references/detection/engine.py`, `references/detection/utils.py` and `references/detection/transforms.py`.\n",
        "\n",
        "Let's copy those files (and their dependencies) in here so that they are available in the notebook"
      ]
    },
    {
      "cell_type": "code",
      "metadata": {
        "id": "UYDb7PBw55b-"
      },
      "source": [
        "%%shell\n",
        "\n",
        "# Download TorchVision repo to use some files from\n",
        "# references/detection\n",
        "git clone https://github.com/pytorch/vision.git\n",
        "cd vision\n",
        "git checkout v0.3.0\n",
        "\n",
        "cp references/detection/utils.py ../\n",
        "cp references/detection/transforms.py ../\n",
        "cp references/detection/coco_eval.py ../\n",
        "cp references/detection/engine.py ../\n",
        "cp references/detection/coco_utils.py ../"
      ],
      "execution_count": null,
      "outputs": []
    },
    {
      "cell_type": "markdown",
      "metadata": {
        "id": "2u9e_pdv54nG"
      },
      "source": [
        "\n",
        "\n",
        "Let's write some helper functions for data augmentation / transformation, which leverages the functions in `refereces/detection` that we have just copied:\n"
      ]
    },
    {
      "cell_type": "code",
      "metadata": {
        "id": "l79ivkwKy357"
      },
      "source": [
        "from engine import train_one_epoch, evaluate\n",
        "import utils\n",
        "import transforms as T\n",
        "\n",
        "\n",
        "def get_transform(train):\n",
        "    transforms = []\n",
        "    # converts the image, a PIL image, into a PyTorch Tensor\n",
        "    transforms.append(T.ToTensor())\n",
        "    if train:\n",
        "        # during training, randomly flip the training images\n",
        "        # and ground-truth for data augmentation\n",
        "        transforms.append(T.RandomHorizontalFlip(0.5))\n",
        "    return T.Compose(transforms)"
      ],
      "execution_count": null,
      "outputs": []
    },
    {
      "cell_type": "markdown",
      "metadata": {
        "id": "FzCLqiZk-sjf"
      },
      "source": [
        "#### Note that we do not need to add a mean/std normalization nor image rescaling in the data transforms, as those are handled internally by the Mask R-CNN model."
      ]
    },
    {
      "cell_type": "markdown",
      "metadata": {
        "id": "3YFJGJxk6XEs"
      },
      "source": [
        "### Putting everything together\n",
        "\n",
        "We now have the dataset class, the models and the data transforms. Let's instantiate them"
      ]
    },
    {
      "cell_type": "code",
      "metadata": {
        "id": "a5dGaIezze3y"
      },
      "source": [
        "# use our dataset and defined transformations\n",
        "dataset = PennFudanDataset('PennFudanPed', get_transform(train=True))\n",
        "dataset_test = PennFudanDataset('PennFudanPed', get_transform(train=False))\n",
        "\n",
        "# split the dataset in train and test set\n",
        "torch.manual_seed(1)\n",
        "indices = torch.randperm(len(dataset)).tolist()\n",
        "dataset = torch.utils.data.Subset(dataset, indices[:-50])\n",
        "dataset_test = torch.utils.data.Subset(dataset_test, indices[-50:])\n",
        "\n",
        "# define training and validation data loaders\n",
        "data_loader = torch.utils.data.DataLoader(\n",
        "    dataset, batch_size=2, shuffle=True, num_workers=4,\n",
        "    collate_fn=utils.collate_fn)\n",
        "\n",
        "data_loader_test = torch.utils.data.DataLoader(\n",
        "    dataset_test, batch_size=1, shuffle=False, num_workers=4,\n",
        "    collate_fn=utils.collate_fn)"
      ],
      "execution_count": null,
      "outputs": []
    },
    {
      "cell_type": "markdown",
      "metadata": {
        "id": "L5yvZUprj4ZN"
      },
      "source": [
        "Now let's instantiate the model and the optimizer"
      ]
    },
    {
      "cell_type": "code",
      "metadata": {
        "id": "zoenkCj18C4h"
      },
      "source": [
        "device = torch.device('cuda') if torch.cuda.is_available() else torch.device('cpu')\n",
        "\n",
        "# our dataset has two classes only - background and person\n",
        "num_classes = 2\n",
        "\n",
        "# get the model using our helper function\n",
        "model = get_instance_segmentation_model(num_classes)\n",
        "# move model to the right device\n",
        "model.to(device)\n",
        "\n",
        "# construct an optimizer\n",
        "params = [p for p in model.parameters() if p.requires_grad]\n",
        "optimizer = SGD(params, lr=0.005,\n",
        "                            momentum=0.9, weight_decay=0.0005,\n",
        "                adaptive_avg_reg = False,\n",
        "                adaptive_var_weight_decay = True, iter_length = 30)\n",
        "\n",
        "# and a learning rate scheduler which decreases the learning rate by\n",
        "# 10x every 3 epochs\n",
        "lr_scheduler = torch.optim.lr_scheduler.StepLR(optimizer,\n",
        "                                               step_size=3,\n",
        "                                               gamma=0.1)"
      ],
      "execution_count": null,
      "outputs": []
    },
    {
      "cell_type": "markdown",
      "metadata": {
        "id": "XAd56lt4kDxc"
      },
      "source": [
        "And now let's train the model for 10 epochs, evaluating at the end of every epoch."
      ]
    },
    {
      "cell_type": "code",
      "metadata": {
        "id": "at-h4OWK0aoc"
      },
      "source": [
        "# let's train it for 10 epochs\n",
        "num_epochs = 20\n",
        "\n",
        "for epoch in range(num_epochs):\n",
        "    # train for one epoch, printing every 10 iterations\n",
        "    train_one_epoch(model, optimizer, data_loader, device, epoch, print_freq=10)\n",
        "    # update the learning rate\n",
        "    lr_scheduler.step()\n",
        "    # evaluate on the test dataset\n",
        "    evaluate(model, data_loader_test, device=device)"
      ],
      "execution_count": null,
      "outputs": []
    },
    {
      "cell_type": "markdown",
      "metadata": {
        "id": "Z6mYGFLxkO8F"
      },
      "source": [
        "Now that training has finished, let's have a look at what it actually predicts in a test image"
      ]
    },
    {
      "cell_type": "code",
      "metadata": {
        "id": "YHwIdxH76uPj"
      },
      "source": [
        "# pick one image from the test set\n",
        "img, _ = dataset_test[0]\n",
        "# put the model in evaluation mode\n",
        "model.eval()\n",
        "with torch.no_grad():\n",
        "    prediction = model([img.to(device)])"
      ],
      "execution_count": null,
      "outputs": []
    },
    {
      "cell_type": "markdown",
      "metadata": {
        "id": "DmN602iKsuey"
      },
      "source": [
        "Printing the prediction shows that we have a list of dictionaries. Each element of the list corresponds to a different image. As we have a single image, there is a single dictionary in the list.\n",
        "The dictionary contains the predictions for the image we passed. In this case, we can see that it contains `boxes`, `labels`, `masks` and `scores` as fields."
      ]
    },
    {
      "cell_type": "code",
      "metadata": {
        "id": "Lkmb3qUu6zw3"
      },
      "source": [
        "prediction"
      ],
      "execution_count": null,
      "outputs": []
    },
    {
      "cell_type": "markdown",
      "metadata": {
        "id": "RwT21rzotFbH"
      },
      "source": [
        "Let's inspect the image and the predicted segmentation masks.\n",
        "\n",
        "For that, we need to convert the image, which has been rescaled to 0-1 and had the channels flipped so that we have it in `[C, H, W]` format."
      ]
    },
    {
      "cell_type": "code",
      "metadata": {
        "id": "bpqN9t1u7B2J"
      },
      "source": [
        "Image.fromarray(img.mul(255).permute(1, 2, 0).byte().numpy())"
      ],
      "execution_count": null,
      "outputs": []
    },
    {
      "cell_type": "markdown",
      "metadata": {
        "id": "M58J3O9OtT1G"
      },
      "source": [
        "And let's now visualize the top predicted segmentation mask. The masks are predicted as `[N, 1, H, W]`, where `N` is the number of predictions, and are probability maps between 0-1."
      ]
    },
    {
      "cell_type": "code",
      "metadata": {
        "id": "5v5S3bm07SO1"
      },
      "source": [
        "Image.fromarray(prediction[0]['masks'][0, 0].mul(255).byte().cpu().numpy())"
      ],
      "execution_count": null,
      "outputs": []
    },
    {
      "cell_type": "markdown",
      "metadata": {
        "id": "0EZCVtCPunrT"
      },
      "source": [
        "Looks pretty good!\n",
        "\n",
        "## Wrapping up\n",
        "\n",
        "In this tutorial, you have learned how to create your own training pipeline for instance segmentation models, on a custom dataset.\n",
        "For that, you wrote a `torch.utils.data.Dataset` class that returns the images and the ground truth boxes and segmentation masks. You also leveraged a Mask R-CNN model pre-trained on COCO train2017 in order to perform transfer learning on this new dataset.\n",
        "\n",
        "For a more complete example, which includes multi-machine / multi-gpu training, check `references/detection/train.py`, which is present in the [torchvision GitHub repo](https://github.com/pytorch/vision/tree/v0.3.0/references/detection). \n",
        "\n"
      ]
    }
  ]
}